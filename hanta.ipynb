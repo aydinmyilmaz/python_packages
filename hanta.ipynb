{
  "nbformat": 4,
  "nbformat_minor": 0,
  "metadata": {
    "colab": {
      "name": "hanta.ipynb",
      "provenance": [],
      "authorship_tag": "ABX9TyPzH5wi65ZvG0+rLs9iBjST",
      "include_colab_link": true
    },
    "kernelspec": {
      "name": "python3",
      "display_name": "Python 3"
    },
    "language_info": {
      "name": "python"
    }
  },
  "cells": [
    {
      "cell_type": "markdown",
      "metadata": {
        "id": "view-in-github",
        "colab_type": "text"
      },
      "source": [
        "<a href=\"https://colab.research.google.com/github/aydinmyilmaz/python_packages/blob/main/hanta.ipynb\" target=\"_parent\"><img src=\"https://colab.research.google.com/assets/colab-badge.svg\" alt=\"Open In Colab\"/></a>"
      ]
    },
    {
      "cell_type": "code",
      "execution_count": null,
      "metadata": {
        "id": "qb_mCqJwFPTa"
      },
      "outputs": [],
      "source": [
        "!pip install HanTa"
      ]
    },
    {
      "cell_type": "code",
      "source": [
        "from HanTa import HanoverTagger as ht\n",
        "\n",
        "hannover = ht.HanoverTagger('morphmodel_ger.pgz')\n",
        "\n",
        " print('HanTa:' + str(hannover.analyze(\"Polizisten\")))"
      ],
      "metadata": {
        "id": "vQ0DqR_9FV23"
      },
      "execution_count": null,
      "outputs": []
    },
    {
      "cell_type": "code",
      "source": [
        "words =['Deutschen', 'Krankenhäuser', \"Frauen\", \"Krieges\", \"Veranstantungen\",\"Spiele\", \"Gespräche\", \"Geschäften\",\n",
        "       \"Ländern\",\"Clubs\",\"russichen\", \"Gebäude\",\"Wohnungen\",\"Westen\",\"Berliner\",\"Deutschlands\", \"Russlands\",\"Bayerns\",\n",
        "       \"Grünen\",\"Behörden\",\"Schulen\",\"Vereins\",\"Militärs\",\"Städte\",\"Städten\",\"Berliner\",\"Angaben\",\"Positionen\",\"Songs\",\n",
        "       \"Romane\",\"Menschen\"]\n",
        "\n",
        "mails_lemma = []\n",
        "\n",
        "for word in words:\n",
        "     result = str(hannover.analyze(word))\n",
        "     print(result)\n",
        "     "
      ],
      "metadata": {
        "id": "6o0v06bVFbeG"
      },
      "execution_count": null,
      "outputs": []
    }
  ]
}